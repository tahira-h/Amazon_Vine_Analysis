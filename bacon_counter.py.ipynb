{
 "cells": [
  {
   "cell_type": "code",
   "execution_count": 1,
   "id": "hybrid-organ",
   "metadata": {},
   "outputs": [
    {
     "name": "stdout",
     "output_type": "stream",
     "text": [
      "Requirement already satisfied: MRJob in c:\\users\\tahira\\anaconda3\\lib\\site-packages (0.7.4)\n",
      "Requirement already satisfied: PyYAML>=3.10 in c:\\users\\tahira\\anaconda3\\lib\\site-packages (from MRJob) (5.4.1)\n",
      "Note: you may need to restart the kernel to use updated packages.\n"
     ]
    }
   ],
   "source": [
    "pip install MRJob"
   ]
  },
  {
   "cell_type": "code",
   "execution_count": 2,
   "id": "dietary-links",
   "metadata": {},
   "outputs": [
    {
     "name": "stderr",
     "output_type": "stream",
     "text": [
      "usage: ipykernel_launcher.py [options] [input files]\n",
      "ipykernel_launcher.py: error: unrecognized arguments: -f\n"
     ]
    },
    {
     "ename": "SystemExit",
     "evalue": "2",
     "output_type": "error",
     "traceback": [
      "An exception has occurred, use %tb to see the full traceback.\n",
      "\u001b[1;31mSystemExit\u001b[0m\u001b[1;31m:\u001b[0m 2\n"
     ]
    },
    {
     "name": "stderr",
     "output_type": "stream",
     "text": [
      "C:\\Users\\TAHIRA\\anaconda3\\lib\\site-packages\\IPython\\core\\interactiveshell.py:3435: UserWarning: To exit: use 'exit', 'quit', or Ctrl-D.\n",
      "  warn(\"To exit: use 'exit', 'quit', or Ctrl-D.\", stacklevel=1)\n"
     ]
    }
   ],
   "source": [
    "from mrjob.job import MRJob\n",
    "# Create a class, 'Bacon_count' which inherits, or takes properties from the Mr.Job class\n",
    "class Bacon_count(MRJob):\n",
    "    def mapper(self, _, line):\n",
    "        for word in line.split():\n",
    "            if word.lower() == \"bacon\":\n",
    "                yield \"bacon\", 1\n",
    "                \n",
    "    def reducer(self, key, values):\n",
    "        yield key, sum(values)\n",
    "if __name__ == \"__main__\":\n",
    "    Bacon_count.run()"
   ]
  },
  {
   "cell_type": "code",
   "execution_count": 5,
   "id": "liquid-method",
   "metadata": {},
   "outputs": [],
   "source": [
    "# Code to console\n",
    "# python bacon_counter.py input.txt\n",
    "\n",
    "# Created a temporary folder, outputted the results to that folder, and then removed the folder. In the middle of all that, you'll find the result of the MRJob.\n",
    "\n",
    "# As mentioned, the mrjob library won't be used in production anywhere, as we'll employ better libraries for that purpose. It's good to practice with smaller files and to try predicting the result, and then confirm with mrjob."
   ]
  },
  {
   "cell_type": "code",
   "execution_count": null,
   "id": "agricultural-greenhouse",
   "metadata": {},
   "outputs": [],
   "source": []
  }
 ],
 "metadata": {
  "kernelspec": {
   "display_name": "PythonData",
   "language": "python",
   "name": "pythondata"
  },
  "language_info": {
   "codemirror_mode": {
    "name": "ipython",
    "version": 3
   },
   "file_extension": ".py",
   "mimetype": "text/x-python",
   "name": "python",
   "nbconvert_exporter": "python",
   "pygments_lexer": "ipython3",
   "version": "3.8.5"
  }
 },
 "nbformat": 4,
 "nbformat_minor": 5
}
